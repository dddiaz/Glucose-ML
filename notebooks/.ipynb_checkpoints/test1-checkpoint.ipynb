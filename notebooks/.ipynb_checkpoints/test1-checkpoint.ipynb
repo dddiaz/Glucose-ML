{
 "cells": [
  {
   "cell_type": "code",
   "execution_count": 1,
   "metadata": {
    "collapsed": true,
    "deletable": true,
    "editable": true
   },
   "outputs": [],
   "source": [
    "# Make sure you have uploaded the csv file to jupyter notebook"
   ]
  },
  {
   "cell_type": "code",
   "execution_count": 2,
   "metadata": {
    "collapsed": false,
    "deletable": true,
    "editable": true
   },
   "outputs": [
    {
     "name": "stdout",
     "output_type": "stream",
     "text": [
      "Hello World\n"
     ]
    }
   ],
   "source": [
    "print(\"Hello World\")"
   ]
  },
  {
   "cell_type": "code",
   "execution_count": 1,
   "metadata": {
    "collapsed": true,
    "deletable": true,
    "editable": true
   },
   "outputs": [],
   "source": [
    "import pandas as pd"
   ]
  },
  {
   "cell_type": "code",
   "execution_count": 2,
   "metadata": {
    "collapsed": true
   },
   "outputs": [],
   "source": [
    "import numpy as np"
   ]
  },
  {
   "cell_type": "code",
   "execution_count": 3,
   "metadata": {
    "collapsed": true
   },
   "outputs": [],
   "source": [
    "import matplotlib.pyplot as plt"
   ]
  },
  {
   "cell_type": "code",
   "execution_count": 4,
   "metadata": {
    "collapsed": true
   },
   "outputs": [],
   "source": [
    "data = pd.read_csv(\"glucoseValues.csv\", parse_dates=[4], infer_datetime_format=True)"
   ]
  },
  {
   "cell_type": "code",
   "execution_count": 5,
   "metadata": {
    "collapsed": false
   },
   "outputs": [
    {
     "data": {
      "text/html": [
       "<div>\n",
       "<table border=\"1\" class=\"dataframe\">\n",
       "  <thead>\n",
       "    <tr style=\"text-align: right;\">\n",
       "      <th></th>\n",
       "      <th>_id</th>\n",
       "      <th>sgv</th>\n",
       "      <th>data</th>\n",
       "      <th>dateString</th>\n",
       "      <th>trend</th>\n",
       "      <th>direction</th>\n",
       "      <th>device</th>\n",
       "      <th>type</th>\n",
       "    </tr>\n",
       "  </thead>\n",
       "  <tbody>\n",
       "    <tr>\n",
       "      <th>0</th>\n",
       "      <td>ObjectId(566f56a417218b58606a4a44)</td>\n",
       "      <td>227</td>\n",
       "      <td>NaN</td>\n",
       "      <td>2015-12-14T23:51:48.000Z</td>\n",
       "      <td>5</td>\n",
       "      <td>FortyFiveDown</td>\n",
       "      <td>share2</td>\n",
       "      <td>sgv</td>\n",
       "    </tr>\n",
       "    <tr>\n",
       "      <th>1</th>\n",
       "      <td>ObjectId(566f56a417218b58606a4a45)</td>\n",
       "      <td>241</td>\n",
       "      <td>NaN</td>\n",
       "      <td>2015-12-14T23:41:48.000Z</td>\n",
       "      <td>5</td>\n",
       "      <td>FortyFiveDown</td>\n",
       "      <td>share2</td>\n",
       "      <td>sgv</td>\n",
       "    </tr>\n",
       "    <tr>\n",
       "      <th>2</th>\n",
       "      <td>ObjectId(566f56a417218b58606a4a46)</td>\n",
       "      <td>235</td>\n",
       "      <td>NaN</td>\n",
       "      <td>2015-12-14T23:46:49.000Z</td>\n",
       "      <td>5</td>\n",
       "      <td>FortyFiveDown</td>\n",
       "      <td>share2</td>\n",
       "      <td>sgv</td>\n",
       "    </tr>\n",
       "    <tr>\n",
       "      <th>3</th>\n",
       "      <td>ObjectId(566f57cc17218b58606a4a4b)</td>\n",
       "      <td>220</td>\n",
       "      <td>NaN</td>\n",
       "      <td>2015-12-14T23:56:48.000Z</td>\n",
       "      <td>5</td>\n",
       "      <td>FortyFiveDown</td>\n",
       "      <td>share2</td>\n",
       "      <td>sgv</td>\n",
       "    </tr>\n",
       "    <tr>\n",
       "      <th>4</th>\n",
       "      <td>ObjectId(566f58f817218b58606a4a4e)</td>\n",
       "      <td>218</td>\n",
       "      <td>NaN</td>\n",
       "      <td>2015-12-15T00:01:48.000Z</td>\n",
       "      <td>5</td>\n",
       "      <td>FortyFiveDown</td>\n",
       "      <td>share2</td>\n",
       "      <td>sgv</td>\n",
       "    </tr>\n",
       "  </tbody>\n",
       "</table>\n",
       "</div>"
      ],
      "text/plain": [
       "                                  _id  sgv  data                dateString  \\\n",
       "0  ObjectId(566f56a417218b58606a4a44)  227   NaN  2015-12-14T23:51:48.000Z   \n",
       "1  ObjectId(566f56a417218b58606a4a45)  241   NaN  2015-12-14T23:41:48.000Z   \n",
       "2  ObjectId(566f56a417218b58606a4a46)  235   NaN  2015-12-14T23:46:49.000Z   \n",
       "3  ObjectId(566f57cc17218b58606a4a4b)  220   NaN  2015-12-14T23:56:48.000Z   \n",
       "4  ObjectId(566f58f817218b58606a4a4e)  218   NaN  2015-12-15T00:01:48.000Z   \n",
       "\n",
       "  trend      direction  device type  \n",
       "0     5  FortyFiveDown  share2  sgv  \n",
       "1     5  FortyFiveDown  share2  sgv  \n",
       "2     5  FortyFiveDown  share2  sgv  \n",
       "3     5  FortyFiveDown  share2  sgv  \n",
       "4     5  FortyFiveDown  share2  sgv  "
      ]
     },
     "execution_count": 5,
     "metadata": {},
     "output_type": "execute_result"
    }
   ],
   "source": [
    "data.head()"
   ]
  },
  {
   "cell_type": "code",
   "execution_count": 8,
   "metadata": {
    "collapsed": false
   },
   "outputs": [],
   "source": [
    "data = data.drop([\"_id\",\"data\"], axis=1)"
   ]
  },
  {
   "cell_type": "code",
   "execution_count": 10,
   "metadata": {
    "collapsed": true
   },
   "outputs": [],
   "source": [
    "# Delete junk column"
   ]
  },
  {
   "cell_type": "code",
   "execution_count": 11,
   "metadata": {
    "collapsed": false
   },
   "outputs": [
    {
     "data": {
      "text/html": [
       "<div>\n",
       "<table border=\"1\" class=\"dataframe\">\n",
       "  <thead>\n",
       "    <tr style=\"text-align: right;\">\n",
       "      <th></th>\n",
       "      <th>sgv</th>\n",
       "      <th>dateString</th>\n",
       "      <th>trend</th>\n",
       "      <th>direction</th>\n",
       "      <th>device</th>\n",
       "      <th>type</th>\n",
       "    </tr>\n",
       "  </thead>\n",
       "  <tbody>\n",
       "    <tr>\n",
       "      <th>0</th>\n",
       "      <td>227</td>\n",
       "      <td>2015-12-14T23:51:48.000Z</td>\n",
       "      <td>5</td>\n",
       "      <td>FortyFiveDown</td>\n",
       "      <td>share2</td>\n",
       "      <td>sgv</td>\n",
       "    </tr>\n",
       "    <tr>\n",
       "      <th>1</th>\n",
       "      <td>241</td>\n",
       "      <td>2015-12-14T23:41:48.000Z</td>\n",
       "      <td>5</td>\n",
       "      <td>FortyFiveDown</td>\n",
       "      <td>share2</td>\n",
       "      <td>sgv</td>\n",
       "    </tr>\n",
       "    <tr>\n",
       "      <th>2</th>\n",
       "      <td>235</td>\n",
       "      <td>2015-12-14T23:46:49.000Z</td>\n",
       "      <td>5</td>\n",
       "      <td>FortyFiveDown</td>\n",
       "      <td>share2</td>\n",
       "      <td>sgv</td>\n",
       "    </tr>\n",
       "    <tr>\n",
       "      <th>3</th>\n",
       "      <td>220</td>\n",
       "      <td>2015-12-14T23:56:48.000Z</td>\n",
       "      <td>5</td>\n",
       "      <td>FortyFiveDown</td>\n",
       "      <td>share2</td>\n",
       "      <td>sgv</td>\n",
       "    </tr>\n",
       "    <tr>\n",
       "      <th>4</th>\n",
       "      <td>218</td>\n",
       "      <td>2015-12-15T00:01:48.000Z</td>\n",
       "      <td>5</td>\n",
       "      <td>FortyFiveDown</td>\n",
       "      <td>share2</td>\n",
       "      <td>sgv</td>\n",
       "    </tr>\n",
       "  </tbody>\n",
       "</table>\n",
       "</div>"
      ],
      "text/plain": [
       "   sgv                dateString trend      direction  device type\n",
       "0  227  2015-12-14T23:51:48.000Z     5  FortyFiveDown  share2  sgv\n",
       "1  241  2015-12-14T23:41:48.000Z     5  FortyFiveDown  share2  sgv\n",
       "2  235  2015-12-14T23:46:49.000Z     5  FortyFiveDown  share2  sgv\n",
       "3  220  2015-12-14T23:56:48.000Z     5  FortyFiveDown  share2  sgv\n",
       "4  218  2015-12-15T00:01:48.000Z     5  FortyFiveDown  share2  sgv"
      ]
     },
     "execution_count": 11,
     "metadata": {},
     "output_type": "execute_result"
    }
   ],
   "source": [
    "data.head()"
   ]
  },
  {
   "cell_type": "code",
   "execution_count": 14,
   "metadata": {
    "collapsed": false
   },
   "outputs": [
    {
     "data": {
      "image/png": "[encoded data removed]",
      "text/plain": [
       "<matplotlib.figure.Figure at 0x7f2b95201a90>"
      ]
     },
     "metadata": {},
     "output_type": "display_data"
    }
   ],
   "source": [
    "data.plot();"
   ]
  },
  {
   "cell_type": "code",
   "execution_count": 15,
   "metadata": {
    "collapsed": false
   },
   "outputs": [
    {
     "data": {
      "text/plain": [
       "<matplotlib.axes._subplots.AxesSubplot at 0x7f2b8ecfa518>"
      ]
     },
     "execution_count": 15,
     "metadata": {},
     "output_type": "execute_result"
    },
    {
     "data": {
      "image/png": "[encoded data removed]",
      "text/plain": [
       "<matplotlib.figure.Figure at 0x7f2b95201dd8>"
      ]
     },
     "metadata": {},
     "output_type": "display_data"
    }
   ],
   "source": [
    "data[0:20].plot()"
   ]
  },
  {
   "cell_type": "code",
   "execution_count": 17,
   "metadata": {
    "collapsed": false
   },
   "outputs": [],
   "source": [
    "bgWithDateString = data.drop([\"trend\",\"direction\",\"device\",\"type\"], axis=1)"
   ]
  },
  {
   "cell_type": "code",
   "execution_count": 18,
   "metadata": {
    "collapsed": false
   },
   "outputs": [
    {
     "data": {
      "text/html": [
       "<div>\n",
       "<table border=\"1\" class=\"dataframe\">\n",
       "  <thead>\n",
       "    <tr style=\"text-align: right;\">\n",
       "      <th></th>\n",
       "      <th>sgv</th>\n",
       "      <th>dateString</th>\n",
       "    </tr>\n",
       "  </thead>\n",
       "  <tbody>\n",
       "    <tr>\n",
       "      <th>0</th>\n",
       "      <td>227</td>\n",
       "      <td>2015-12-14T23:51:48.000Z</td>\n",
       "    </tr>\n",
       "    <tr>\n",
       "      <th>1</th>\n",
       "      <td>241</td>\n",
       "      <td>2015-12-14T23:41:48.000Z</td>\n",
       "    </tr>\n",
       "    <tr>\n",
       "      <th>2</th>\n",
       "      <td>235</td>\n",
       "      <td>2015-12-14T23:46:49.000Z</td>\n",
       "    </tr>\n",
       "    <tr>\n",
       "      <th>3</th>\n",
       "      <td>220</td>\n",
       "      <td>2015-12-14T23:56:48.000Z</td>\n",
       "    </tr>\n",
       "    <tr>\n",
       "      <th>4</th>\n",
       "      <td>218</td>\n",
       "      <td>2015-12-15T00:01:48.000Z</td>\n",
       "    </tr>\n",
       "  </tbody>\n",
       "</table>\n",
       "</div>"
      ],
      "text/plain": [
       "   sgv                dateString\n",
       "0  227  2015-12-14T23:51:48.000Z\n",
       "1  241  2015-12-14T23:41:48.000Z\n",
       "2  235  2015-12-14T23:46:49.000Z\n",
       "3  220  2015-12-14T23:56:48.000Z\n",
       "4  218  2015-12-15T00:01:48.000Z"
      ]
     },
     "execution_count": 18,
     "metadata": {},
     "output_type": "execute_result"
    }
   ],
   "source": [
    "bgWithDateString.head()"
   ]
  },
  {
   "cell_type": "code",
   "execution_count": 19,
   "metadata": {
    "collapsed": true
   },
   "outputs": [],
   "source": [
    "# convert column to datetime"
   ]
  },
  {
   "cell_type": "code",
   "execution_count": 20,
   "metadata": {
    "collapsed": true
   },
   "outputs": [],
   "source": [
    "bgWithDateString['dateString'] = pd.to_datetime(bgWithDateString['dateString'])"
   ]
  },
  {
   "cell_type": "code",
   "execution_count": 21,
   "metadata": {
    "collapsed": false
   },
   "outputs": [
    {
     "data": {
      "text/html": [
       "<div>\n",
       "<table border=\"1\" class=\"dataframe\">\n",
       "  <thead>\n",
       "    <tr style=\"text-align: right;\">\n",
       "      <th></th>\n",
       "      <th>sgv</th>\n",
       "      <th>dateString</th>\n",
       "    </tr>\n",
       "  </thead>\n",
       "  <tbody>\n",
       "    <tr>\n",
       "      <th>0</th>\n",
       "      <td>227</td>\n",
       "      <td>2015-12-14 23:51:48</td>\n",
       "    </tr>\n",
       "    <tr>\n",
       "      <th>1</th>\n",
       "      <td>241</td>\n",
       "      <td>2015-12-14 23:41:48</td>\n",
       "    </tr>\n",
       "    <tr>\n",
       "      <th>2</th>\n",
       "      <td>235</td>\n",
       "      <td>2015-12-14 23:46:49</td>\n",
       "    </tr>\n",
       "    <tr>\n",
       "      <th>3</th>\n",
       "      <td>220</td>\n",
       "      <td>2015-12-14 23:56:48</td>\n",
       "    </tr>\n",
       "    <tr>\n",
       "      <th>4</th>\n",
       "      <td>218</td>\n",
       "      <td>2015-12-15 00:01:48</td>\n",
       "    </tr>\n",
       "  </tbody>\n",
       "</table>\n",
       "</div>"
      ],
      "text/plain": [
       "   sgv          dateString\n",
       "0  227 2015-12-14 23:51:48\n",
       "1  241 2015-12-14 23:41:48\n",
       "2  235 2015-12-14 23:46:49\n",
       "3  220 2015-12-14 23:56:48\n",
       "4  218 2015-12-15 00:01:48"
      ]
     },
     "execution_count": 21,
     "metadata": {},
     "output_type": "execute_result"
    }
   ],
   "source": [
    "bgWithDateString.head()"
   ]
  },
  {
   "cell_type": "code",
   "execution_count": 22,
   "metadata": {
    "collapsed": true
   },
   "outputs": [],
   "source": [
    "bg = bgWithDateString"
   ]
  },
  {
   "cell_type": "code",
   "execution_count": 24,
   "metadata": {
    "collapsed": false
   },
   "outputs": [],
   "source": [
    "bg.columns = ['sgv','datetime']"
   ]
  },
  {
   "cell_type": "code",
   "execution_count": 25,
   "metadata": {
    "collapsed": false
   },
   "outputs": [
    {
     "data": {
      "text/html": [
       "<div>\n",
       "<table border=\"1\" class=\"dataframe\">\n",
       "  <thead>\n",
       "    <tr style=\"text-align: right;\">\n",
       "      <th></th>\n",
       "      <th>sgv</th>\n",
       "      <th>datetime</th>\n",
       "    </tr>\n",
       "  </thead>\n",
       "  <tbody>\n",
       "    <tr>\n",
       "      <th>0</th>\n",
       "      <td>227</td>\n",
       "      <td>2015-12-14 23:51:48</td>\n",
       "    </tr>\n",
       "    <tr>\n",
       "      <th>1</th>\n",
       "      <td>241</td>\n",
       "      <td>2015-12-14 23:41:48</td>\n",
       "    </tr>\n",
       "    <tr>\n",
       "      <th>2</th>\n",
       "      <td>235</td>\n",
       "      <td>2015-12-14 23:46:49</td>\n",
       "    </tr>\n",
       "    <tr>\n",
       "      <th>3</th>\n",
       "      <td>220</td>\n",
       "      <td>2015-12-14 23:56:48</td>\n",
       "    </tr>\n",
       "    <tr>\n",
       "      <th>4</th>\n",
       "      <td>218</td>\n",
       "      <td>2015-12-15 00:01:48</td>\n",
       "    </tr>\n",
       "  </tbody>\n",
       "</table>\n",
       "</div>"
      ],
      "text/plain": [
       "   sgv            datetime\n",
       "0  227 2015-12-14 23:51:48\n",
       "1  241 2015-12-14 23:41:48\n",
       "2  235 2015-12-14 23:46:49\n",
       "3  220 2015-12-14 23:56:48\n",
       "4  218 2015-12-15 00:01:48"
      ]
     },
     "execution_count": 25,
     "metadata": {},
     "output_type": "execute_result"
    }
   ],
   "source": [
    "bg.head()"
   ]
  },
  {
   "cell_type": "code",
   "execution_count": null,
   "metadata": {
    "collapsed": true
   },
   "outputs": [],
   "source": []
  }
 ],
 "metadata": {
  "kernelspec": {
   "display_name": "Python 3",
   "language": "python",
   "name": "python3"
  },
  "language_info": {
   "codemirror_mode": {
    "name": "ipython",
    "version": 3
   },
   "file_extension": ".py",
   "mimetype": "text/x-python",
   "name": "python",
   "nbconvert_exporter": "python",
   "pygments_lexer": "ipython3",
   "version": "3.5.2"
  }
 },
 "nbformat": 4,
 "nbformat_minor": 2
}
